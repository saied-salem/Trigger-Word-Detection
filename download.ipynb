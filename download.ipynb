{
 "cells": [
  {
   "cell_type": "code",
   "execution_count": 1,
   "metadata": {},
   "outputs": [
    {
     "name": "stdout",
     "output_type": "stream",
     "text": [
      "split: cannot open 'allfiles.tar.gz' for reading: No such file or directory\r\n"
     ]
    }
   ],
   "source": [
    "!split -b 200m allfiles.tar.gz allfiles.tar.gz.part"
   ]
  },
  {
   "cell_type": "code",
   "execution_count": 2,
   "metadata": {},
   "outputs": [
    {
     "name": "stdout",
     "output_type": "stream",
     "text": [
      "Trigger_word_detection_v2a.ipynb\n",
      "XY_dev/\n",
      "XY_dev/Y_dev.npy\n",
      "XY_dev/X_dev.npy\n",
      "XY_train/\n",
      "XY_train/Y.npy\n",
      "XY_train/.DS_Store\n",
      "XY_train/X.npy\n",
      "__pycache__/\n",
      "__pycache__/test_utils.cpython-37.pyc\n",
      "__pycache__/td_utils.cpython-37.pyc\n",
      "__pycache__/td_utils.cpython-38.pyc\n",
      "audio_examples/\n",
      "audio_examples/train_reference.wav\n",
      "audio_examples/chime.wav\n",
      "audio_examples/example_train.wav\n",
      "audio_examples/my_audio.wav\n",
      "audio_examples/insert_reference.wav\n",
      "chime_output.wav\n",
      "download.ipynb\n",
      "generateTestCases.py\n",
      "images/\n",
      "images/train_label.png\n",
      "images/model.png\n",
      "images/sound.png\n",
      "images/spectrogram.png\n",
      "images/ones_reference.png\n",
      "images/label_diagram.png\n",
      "images/train_reference.png\n",
      "insert_test.wav\n",
      "models/\n",
      "models/model.h5\n",
      "models/model_new8.json\n",
      "models/.DS_Store\n",
      "models/tr_model.h5\n",
      "models/model.json\n",
      "models/model_new8.h5\n",
      "raw_data/\n",
      "raw_data/activates/\n",
      "raw_data/activates/3_act2.wav\n",
      "raw_data/activates/2_act3.wav\n",
      "raw_data/activates/1_act2.wav\n",
      "raw_data/activates/2.wav\n",
      "raw_data/activates/3_act3.wav\n",
      "raw_data/activates/4_act2.wav\n",
      "raw_data/activates/1.wav\n",
      "raw_data/activates/1_act3.wav\n",
      "raw_data/activates/2_act2.wav\n",
      "raw_data/activates/3.wav\n",
      "raw_data/negatives/\n",
      "raw_data/negatives/4.wav\n",
      "raw_data/negatives/3_2.wav\n",
      "raw_data/negatives/1_0.wav\n",
      "raw_data/negatives/2.wav\n",
      "raw_data/negatives/2_1.wav\n",
      "raw_data/negatives/5.wav\n",
      "raw_data/negatives/5_1.wav\n",
      "raw_data/negatives/1.wav\n",
      "raw_data/negatives/3.wav\n",
      "raw_data/negatives/4_0.wav\n",
      "raw_data/.DS_Store\n",
      "raw_data/backgrounds/\n",
      "raw_data/backgrounds/2.wav\n",
      "raw_data/backgrounds/1.wav\n",
      "raw_data/dev/\n",
      "raw_data/dev/2.wav\n",
      "raw_data/dev/1.wav\n",
      "td_utils.py\n",
      "test_utils.py\n",
      "tmp.wav\n",
      "train.py\n",
      "train.wav\n"
     ]
    }
   ],
   "source": [
    "!tar cvfz allfiles.tar.gz *"
   ]
  },
  {
   "cell_type": "code",
   "execution_count": null,
   "metadata": {},
   "outputs": [],
   "source": []
  }
 ],
 "metadata": {
  "kernelspec": {
   "display_name": "Python 3",
   "language": "python",
   "name": "python3"
  },
  "language_info": {
   "codemirror_mode": {
    "name": "ipython",
    "version": 3
   },
   "file_extension": ".py",
   "mimetype": "text/x-python",
   "name": "python",
   "nbconvert_exporter": "python",
   "pygments_lexer": "ipython3",
   "version": "3.7.6"
  }
 },
 "nbformat": 4,
 "nbformat_minor": 4
}
